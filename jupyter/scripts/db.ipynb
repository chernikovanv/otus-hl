{
 "cells": [
  {
   "cell_type": "code",
   "execution_count": 2,
   "id": "d1bb787a",
   "metadata": {},
   "outputs": [],
   "source": [
    "import dbmanager"
   ]
  },
  {
   "cell_type": "code",
   "execution_count": 2,
   "id": "13c5a0cb",
   "metadata": {},
   "outputs": [],
   "source": [
    "db = dbmanager.DBManager()\n",
    "db.init_db()"
   ]
  },
  {
   "cell_type": "code",
   "execution_count": 3,
   "id": "d23366b3",
   "metadata": {},
   "outputs": [
    {
     "data": {
      "text/plain": [
       "[]"
      ]
     },
     "execution_count": 3,
     "metadata": {},
     "output_type": "execute_result"
    }
   ],
   "source": [
    "db.query_users()"
   ]
  },
  {
   "cell_type": "code",
   "execution_count": 5,
   "id": "15cbffe5",
   "metadata": {},
   "outputs": [],
   "source": [
    "from faker import Faker\n",
    "from collections import defaultdict\n",
    "fake = Faker()\n",
    "fake_data = defaultdict(list)"
   ]
  },
  {
   "cell_type": "code",
   "execution_count": 6,
   "id": "36b40564",
   "metadata": {},
   "outputs": [],
   "source": [
    "for _ in range(10):\n",
    "    fake_data[\"first_name\"].append( fake.first_name() )\n",
    "    fake_data[\"last_name\"].append( fake.last_name() )\n",
    "    fake_data[\"occupation\"].append( fake.job() )\n",
    "    fake_data[\"dob\"].append( fake.date_of_birth() )\n",
    "    fake_data[\"country\"].append( fake.country() )"
   ]
  },
  {
   "cell_type": "code",
   "execution_count": 7,
   "id": "a0ea8917",
   "metadata": {},
   "outputs": [
    {
     "data": {
      "text/plain": [
       "defaultdict(list,\n",
       "            {'first_name': ['Robert',\n",
       "              'Wendy',\n",
       "              'Mark',\n",
       "              'Richard',\n",
       "              'Olivia',\n",
       "              'Joseph',\n",
       "              'Jared',\n",
       "              'Tina',\n",
       "              'Margaret',\n",
       "              'Tiffany'],\n",
       "             'last_name': ['Hernandez',\n",
       "              'Campbell',\n",
       "              'Higgins',\n",
       "              'Vaughn',\n",
       "              'Petty',\n",
       "              'Lee',\n",
       "              'West',\n",
       "              'House',\n",
       "              'Sims',\n",
       "              'Nguyen'],\n",
       "             'occupation': ['Designer, multimedia',\n",
       "              'Retail banker',\n",
       "              'Adult nurse',\n",
       "              'Pharmacologist',\n",
       "              'Therapist, drama',\n",
       "              'Physiological scientist',\n",
       "              'Jewellery designer',\n",
       "              'Production assistant, radio',\n",
       "              'Television/film/video producer',\n",
       "              'Surveyor, insurance'],\n",
       "             'dob': [datetime.date(1954, 5, 11),\n",
       "              datetime.date(2009, 6, 25),\n",
       "              datetime.date(1995, 4, 18),\n",
       "              datetime.date(2018, 12, 15),\n",
       "              datetime.date(1909, 3, 19),\n",
       "              datetime.date(1953, 2, 16),\n",
       "              datetime.date(1930, 8, 2),\n",
       "              datetime.date(1942, 9, 1),\n",
       "              datetime.date(2000, 3, 12),\n",
       "              datetime.date(1908, 10, 31)],\n",
       "             'country': ['Chad',\n",
       "              'Guadeloupe',\n",
       "              'Guyana',\n",
       "              'Austria',\n",
       "              'Bahamas',\n",
       "              'Brunei Darussalam',\n",
       "              'Maldives',\n",
       "              'Niger',\n",
       "              'Bulgaria',\n",
       "              'Senegal']})"
      ]
     },
     "execution_count": 7,
     "metadata": {},
     "output_type": "execute_result"
    }
   ],
   "source": [
    "fake_data"
   ]
  }
 ],
 "metadata": {
  "kernelspec": {
   "display_name": "Python 3",
   "language": "python",
   "name": "python3"
  },
  "language_info": {
   "codemirror_mode": {
    "name": "ipython",
    "version": 3
   },
   "file_extension": ".py",
   "mimetype": "text/x-python",
   "name": "python",
   "nbconvert_exporter": "python",
   "pygments_lexer": "ipython3",
   "version": "3.6.1"
  }
 },
 "nbformat": 4,
 "nbformat_minor": 5
}
