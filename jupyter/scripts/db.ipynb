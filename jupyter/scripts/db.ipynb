{
 "cells": [
  {
   "cell_type": "code",
   "execution_count": null,
   "id": "2257c600",
   "metadata": {},
   "outputs": [],
   "source": [
    "import dbmanager"
   ]
  },
  {
   "cell_type": "code",
   "execution_count": null,
   "id": "6b92f4d3",
   "metadata": {},
   "outputs": [],
   "source": [
    "db = dbmanager.DBManager()\n",
    "db.init_db()"
   ]
  },
  {
   "cell_type": "code",
   "execution_count": null,
   "id": "b58b1d2a",
   "metadata": {},
   "outputs": [],
   "source": [
    "for user in db.query_users():\n",
    "    print(user.name + ' ' + user.surname)"
   ]
  },
  {
   "cell_type": "code",
   "execution_count": null,
   "id": "817312ce",
   "metadata": {},
   "outputs": [],
   "source": [
    "for user in db.query_users_by_pref('Br', 'Al'):\n",
    "    print(user.name + ' ' + user.surname)"
   ]
  },
  {
   "cell_type": "code",
   "execution_count": null,
   "id": "5e83c771",
   "metadata": {},
   "outputs": [],
   "source": [
    "from faker import Faker\n",
    "from collections import defaultdict\n",
    "fake = Faker()"
   ]
  },
  {
   "cell_type": "code",
   "execution_count": null,
   "id": "c7d9c0c5",
   "metadata": {},
   "outputs": [],
   "source": [
    "from datetime import datetime \n",
    "\n",
    "start_time = datetime.now() \n",
    "\n",
    "fake_data = defaultdict(list)\n",
    "for _ in range(1000000):\n",
    "    fake_data[\"first_name\"].append( fake.first_name() )\n",
    "    fake_data[\"last_name\"].append( fake.last_name() )\n",
    "    \n",
    "time_elapsed = datetime.now() - start_time\n",
    "\n",
    "print('time elapsed {}'.format(time_elapsed))"
   ]
  },
  {
   "cell_type": "code",
   "execution_count": null,
   "id": "9919b107",
   "metadata": {},
   "outputs": [],
   "source": [
    "start_time = datetime.now() \n",
    "for ind in range(len(fake_data[\"first_name\"])):\n",
    "    db.add_user_short(fake_data[\"first_name\"][ind], fake_data[\"last_name\"][ind])\n",
    "    \n",
    "    if ind%1000 == 0:\n",
    "        time_elapsed = datetime.now() - start_time\n",
    "        print(str(ind) + ', time elapsed {}'.format(time_elapsed))"
   ]
  },
  {
   "cell_type": "code",
   "execution_count": 1,
   "id": "3fd7f9b2",
   "metadata": {},
   "outputs": [],
   "source": [
    "import mysql.connector\n",
    "\n",
    "DB_USER = \"root\"\n",
    "DB_NAME = \"social_net\"\n",
    "DB_PASSWORD = \"root\"\n",
    "DB_HOST = \"db\"\n",
    "\n",
    "connection = mysql.connector.connect(\n",
    "    user=DB_USER, \n",
    "    password=DB_PASSWORD,\n",
    "    host=DB_HOST,\n",
    "    database=DB_NAME,\n",
    "    auth_plugin='mysql_native_password'\n",
    ")\n",
    "cursor = connection.cursor()\n",
    "\n",
    "name_pref = 'Br'\n",
    "surname_pref = 'Al'\n",
    "\n",
    "SQL = \"EXPLAIN ANALYZE SELECT id, name, surname FROM users where name like '{}%' and surname like '{}%' order by id asc\".format(name_pref, surname_pref)\n",
    "\n",
    "cursor.execute(SQL)\n",
    "res = cursor.fetchall()"
   ]
  },
  {
   "cell_type": "code",
   "execution_count": 2,
   "id": "6e64a08b",
   "metadata": {},
   "outputs": [
    {
     "data": {
      "text/plain": [
       "[(\"-> Filter: ((users.`name` like 'Br%') and (users.surname like 'Al%'))  (cost=92129.40 rows=11301) (actual time=0.039..356.626 rows=295 loops=1)\\n    -> Index scan on users using PRIMARY  (cost=92129.40 rows=915604) (actual time=0.032..269.298 rows=1000000 loops=1)\\n\",)]"
      ]
     },
     "execution_count": 2,
     "metadata": {},
     "output_type": "execute_result"
    }
   ],
   "source": [
    "res"
   ]
  },
  {
   "cell_type": "code",
   "execution_count": 10,
   "id": "7612ce84",
   "metadata": {},
   "outputs": [
    {
     "data": {
      "text/plain": [
       "[(\"-> Sort: users.id  (cost=30830.66 rows=68512) (actual time=150.495..150.524 rows=295 loops=1)\\n    -> Filter: ((users.`name` like 'Br%') and (users.surname like 'Al%'))  (actual time=0.440..150.255 rows=295 loops=1)\\n        -> Index range scan on users using name_surname_pref_order_by_id  (actual time=0.425..145.067 rows=34339 loops=1)\\n\",)]"
      ]
     },
     "execution_count": 10,
     "metadata": {},
     "output_type": "execute_result"
    }
   ],
   "source": [
    "res"
   ]
  },
  {
   "cell_type": "code",
   "execution_count": null,
   "id": "233d131f",
   "metadata": {},
   "outputs": [],
   "source": [
    "SQL = \"DROP INDEX name_surname_pref_order_by_id ON users\"\n",
    "\n",
    "cursor.execute(SQL)\n",
    "\n",
    "connection.commit()"
   ]
  },
  {
   "cell_type": "code",
   "execution_count": 5,
   "id": "43646f70",
   "metadata": {},
   "outputs": [],
   "source": [
    "SQL = \"CREATE INDEX name_surname_pref_order_by_id ON users (name(5),surname(5),id)\"\n",
    "\n",
    "cursor.execute(SQL)\n",
    "\n",
    "connection.commit()"
   ]
  },
  {
   "cell_type": "code",
   "execution_count": 8,
   "id": "bb126303",
   "metadata": {},
   "outputs": [
    {
     "data": {
      "text/plain": [
       "[('users',\n",
       "  0,\n",
       "  'PRIMARY',\n",
       "  1,\n",
       "  'id',\n",
       "  'A',\n",
       "  915604,\n",
       "  None,\n",
       "  None,\n",
       "  '',\n",
       "  'BTREE',\n",
       "  '',\n",
       "  '',\n",
       "  'YES',\n",
       "  None),\n",
       " ('users',\n",
       "  0,\n",
       "  'email',\n",
       "  1,\n",
       "  'email',\n",
       "  'A',\n",
       "  1,\n",
       "  None,\n",
       "  None,\n",
       "  'YES',\n",
       "  'BTREE',\n",
       "  '',\n",
       "  '',\n",
       "  'YES',\n",
       "  None),\n",
       " ('users',\n",
       "  1,\n",
       "  'name_surname_pref_order_by_id',\n",
       "  1,\n",
       "  'name',\n",
       "  'A',\n",
       "  526,\n",
       "  5,\n",
       "  None,\n",
       "  'YES',\n",
       "  'BTREE',\n",
       "  '',\n",
       "  '',\n",
       "  'YES',\n",
       "  None),\n",
       " ('users',\n",
       "  1,\n",
       "  'name_surname_pref_order_by_id',\n",
       "  2,\n",
       "  'surname',\n",
       "  'A',\n",
       "  292050,\n",
       "  5,\n",
       "  None,\n",
       "  'YES',\n",
       "  'BTREE',\n",
       "  '',\n",
       "  '',\n",
       "  'YES',\n",
       "  None),\n",
       " ('users',\n",
       "  1,\n",
       "  'name_surname_pref_order_by_id',\n",
       "  3,\n",
       "  'id',\n",
       "  'A',\n",
       "  915604,\n",
       "  None,\n",
       "  None,\n",
       "  '',\n",
       "  'BTREE',\n",
       "  '',\n",
       "  '',\n",
       "  'YES',\n",
       "  None)]"
      ]
     },
     "execution_count": 8,
     "metadata": {},
     "output_type": "execute_result"
    }
   ],
   "source": [
    "SQL = \"SHOW INDEX FROM users\"\n",
    "\n",
    "cursor.execute(SQL)\n",
    "res = cursor.fetchall()\n",
    "res"
   ]
  }
 ],
 "metadata": {
  "kernelspec": {
   "display_name": "Python 3",
   "language": "python",
   "name": "python3"
  },
  "language_info": {
   "codemirror_mode": {
    "name": "ipython",
    "version": 3
   },
   "file_extension": ".py",
   "mimetype": "text/x-python",
   "name": "python",
   "nbconvert_exporter": "python",
   "pygments_lexer": "ipython3",
   "version": "3.6.1"
  }
 },
 "nbformat": 4,
 "nbformat_minor": 5
}
