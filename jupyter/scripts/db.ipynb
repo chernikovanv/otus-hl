{
 "cells": [
  {
   "cell_type": "code",
   "execution_count": null,
   "id": "76e6d9b0",
   "metadata": {},
   "outputs": [],
   "source": [
    "import dbmanager"
   ]
  },
  {
   "cell_type": "code",
   "execution_count": null,
   "id": "8da09137",
   "metadata": {},
   "outputs": [],
   "source": [
    "db = dbmanager.DBManager()\n",
    "db.init_db()"
   ]
  },
  {
   "cell_type": "code",
   "execution_count": null,
   "id": "a8958435",
   "metadata": {},
   "outputs": [],
   "source": [
    "for user in db.query_users_by_pref('Br', 'Al'):\n",
    "    print(user.name + ' ' + user.surname)"
   ]
  },
  {
   "cell_type": "code",
   "execution_count": null,
   "id": "909edbef",
   "metadata": {},
   "outputs": [],
   "source": [
    "from faker import Faker\n",
    "from collections import defaultdict\n",
    "fake = Faker()"
   ]
  },
  {
   "cell_type": "code",
   "execution_count": null,
   "id": "c5b55d70",
   "metadata": {},
   "outputs": [],
   "source": [
    "from datetime import datetime \n",
    "\n",
    "start_time = datetime.now() \n",
    "\n",
    "fake_data = defaultdict(list)\n",
    "for _ in range(1000000):\n",
    "    fake_data[\"first_name\"].append( fake.first_name() )\n",
    "    fake_data[\"last_name\"].append( fake.last_name() )\n",
    "    \n",
    "time_elapsed = datetime.now() - start_time\n",
    "\n",
    "print('time elapsed {}'.format(time_elapsed))"
   ]
  },
  {
   "cell_type": "code",
   "execution_count": null,
   "id": "591196be",
   "metadata": {},
   "outputs": [],
   "source": [
    "start_time = datetime.now() \n",
    "for ind in range(len(fake_data[\"first_name\"])):\n",
    "    db.add_user_short(fake_data[\"first_name\"][ind], fake_data[\"last_name\"][ind])\n",
    "    \n",
    "    if ind%1000 == 0:\n",
    "        time_elapsed = datetime.now() - start_time\n",
    "        print(str(ind) + ', time elapsed {}'.format(time_elapsed))"
   ]
  }
 ],
 "metadata": {
  "kernelspec": {
   "display_name": "Python 3",
   "language": "python",
   "name": "python3"
  },
  "language_info": {
   "codemirror_mode": {
    "name": "ipython",
    "version": 3
   },
   "file_extension": ".py",
   "mimetype": "text/x-python",
   "name": "python",
   "nbconvert_exporter": "python",
   "pygments_lexer": "ipython3",
   "version": "3.6.1"
  }
 },
 "nbformat": 4,
 "nbformat_minor": 5
}
